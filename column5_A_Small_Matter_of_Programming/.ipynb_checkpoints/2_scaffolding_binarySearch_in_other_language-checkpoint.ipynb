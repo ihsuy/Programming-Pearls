{
 "cells": [
  {
   "cell_type": "code",
   "execution_count": 73,
   "metadata": {},
   "outputs": [],
   "source": [
    "def BinarySearch(arr, val):\n",
    "    assert isSortedAscending(arr), \"fatal: perform binary search on an unsorted array\"\n",
    "    \n",
    "    low = 0\n",
    "    high = len(arr)-1\n",
    "    \n",
    "    while low <= high:\n",
    "        prev_size = high-low+1\n",
    "        \n",
    "        mid = (low+high)//2\n",
    "        \n",
    "        if arr[mid] < val:\n",
    "            low = mid+1\n",
    "        elif arr[mid] == val:\n",
    "            return mid\n",
    "        else:\n",
    "            high = mid-1\n",
    "            \n",
    "        new_size = high-low+1\n",
    "        assert new_size < prev_size, \"\"\"fatal: new size has to be smaller than old size, \n",
    "                                        otherwise it can result in infinite loop\"\"\"\n",
    "            \n",
    "    return -1"
   ]
  },
  {
   "cell_type": "code",
   "execution_count": 74,
   "metadata": {},
   "outputs": [],
   "source": [
    "def isSortedAscending(arr):\n",
    "    for i in range(len(arr)-1):\n",
    "        if arr[i]>arr[i+1]:\n",
    "            return False\n",
    "    return True"
   ]
  },
  {
   "cell_type": "code",
   "execution_count": 80,
   "metadata": {},
   "outputs": [],
   "source": [
    "# scaffolding\n",
    "\n",
    "# create array of numbers\n",
    "# 0, step_size*1, step_size*2, ..., step_size*(arr_size-1)\n",
    "arr_size = 10000\n",
    "step_size = 10\n",
    "\n",
    "arr = [num*step_size for num in range(arr_size)]"
   ]
  },
  {
   "cell_type": "code",
   "execution_count": 82,
   "metadata": {},
   "outputs": [
    {
     "name": "stdout",
     "output_type": "stream",
     "text": [
      "All good\n"
     ]
    }
   ],
   "source": [
    "# search numbers in the array\n",
    "test_num = 3000\n",
    "test_step = 8\n",
    "for i in range(test_num):\n",
    "    i = 5*i\n",
    "    res = BinarySearch(arr, i)\n",
    "    \n",
    "    test1_fail = (i%step_size == 0 and res != (i/step_size-1))\n",
    "    test2_fail = (i%step_size != 0 and res == -1)\n",
    "    test3_fail = (i>arr[-1] and res != -1)\n",
    "    \n",
    "    assert test1_fail or test2_fail or test3_fail, \"something is wrong\"\n",
    "    \n",
    "print(\"All good\")"
   ]
  },
  {
   "cell_type": "code",
   "execution_count": null,
   "metadata": {},
   "outputs": [],
   "source": []
  }
 ],
 "metadata": {
  "kernelspec": {
   "display_name": "Python 3",
   "language": "python",
   "name": "python3"
  },
  "language_info": {
   "codemirror_mode": {
    "name": "ipython",
    "version": 3
   },
   "file_extension": ".py",
   "mimetype": "text/x-python",
   "name": "python",
   "nbconvert_exporter": "python",
   "pygments_lexer": "ipython3",
   "version": "3.6.7"
  }
 },
 "nbformat": 4,
 "nbformat_minor": 2
}
